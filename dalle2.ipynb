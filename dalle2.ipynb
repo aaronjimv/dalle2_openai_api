{
 "cells": [
  {
   "cell_type": "code",
   "execution_count": 4,
   "metadata": {},
   "outputs": [],
   "source": [
    "import openai\n",
    "import creds # with my api key"
   ]
  },
  {
   "cell_type": "code",
   "execution_count": 13,
   "metadata": {},
   "outputs": [],
   "source": [
    "res_peticion = openai.Image.create(\n",
    "    prompt = \"cat playing inside a box\",\n",
    "    n=1,\n",
    "    size=\"1024x1024\"\n",
    ")"
   ]
  },
  {
   "cell_type": "code",
   "execution_count": 14,
   "metadata": {},
   "outputs": [
    {
     "data": {
      "text/plain": [
       "<OpenAIObject at 0x1e237064b30> JSON: {\n",
       "  \"created\": 1692893740,\n",
       "  \"data\": [\n",
       "    {\n",
       "      \"url\": \"https://oaidalleapiprodscus.blob.core.windows.net/private/org-sdnuwSIiD9J9vO2QVw6FyagF/user-JXuYyzn3B0gB0fDTgTrFZskI/img-P90uo8WwidK21PZYGVDmuhva.png?st=2023-08-24T15%3A15%3A40Z&se=2023-08-24T17%3A15%3A40Z&sp=r&sv=2021-08-06&sr=b&rscd=inline&rsct=image/png&skoid=6aaadede-4fb3-4698-a8f6-684d7786b067&sktid=a48cca56-e6da-484e-a814-9c849652bcb3&skt=2023-08-23T18%3A57%3A49Z&ske=2023-08-24T18%3A57%3A49Z&sks=b&skv=2021-08-06&sig=vmNnAwy6FnURfiD%2B1%2B/wV%2BdovieWVQyIm71yfHaqpzQ%3D\"\n",
       "    }\n",
       "  ]\n",
       "}"
      ]
     },
     "execution_count": 14,
     "metadata": {},
     "output_type": "execute_result"
    }
   ],
   "source": [
    "res_peticion"
   ]
  },
  {
   "cell_type": "code",
   "execution_count": null,
   "metadata": {},
   "outputs": [],
   "source": []
  }
 ],
 "metadata": {
  "kernelspec": {
   "display_name": "dalle",
   "language": "python",
   "name": "python3"
  },
  "language_info": {
   "codemirror_mode": {
    "name": "ipython",
    "version": 3
   },
   "file_extension": ".py",
   "mimetype": "text/x-python",
   "name": "python",
   "nbconvert_exporter": "python",
   "pygments_lexer": "ipython3",
   "version": "3.11.4"
  },
  "orig_nbformat": 4
 },
 "nbformat": 4,
 "nbformat_minor": 2
}
