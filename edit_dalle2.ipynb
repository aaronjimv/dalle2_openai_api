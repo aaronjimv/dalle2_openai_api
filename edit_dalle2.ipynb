{
 "cells": [
  {
   "cell_type": "code",
   "execution_count": 4,
   "metadata": {},
   "outputs": [],
   "source": [
    "# Import libraries\n",
    "import openai\n",
    "import creds # with my api key"
   ]
  },
  {
   "cell_type": "code",
   "execution_count": 8,
   "metadata": {},
   "outputs": [],
   "source": [
    "# Create an edit request using an image and a mask\n",
    "response = openai.Image.create_edit(\n",
    "  image=open(\"img/monalisa.png\", \"rb\"),\n",
    "  mask=open(\"img/mask.png\", \"rb\"),\n",
    "  prompt=\"a husky face\",\n",
    "  n=1,\n",
    "  size=\"1024x1024\"\n",
    ")"
   ]
  },
  {
   "cell_type": "code",
   "execution_count": 9,
   "metadata": {},
   "outputs": [
    {
     "data": {
      "text/plain": [
       "<OpenAIObject at 0x26178830f50> JSON: {\n",
       "  \"created\": 1692933344,\n",
       "  \"data\": [\n",
       "    {\n",
       "      \"url\": \"https://oaidalleapiprodscus.blob.core.windows.net/private/org-sdnuwSIiD9J9vO2QVw6FyagF/user-JXuYyzn3B0gB0fDTgTrFZskI/img-P4xBW9vulFwcbzrx3RMwYl7T.png?st=2023-08-25T02%3A15%3A44Z&se=2023-08-25T04%3A15%3A44Z&sp=r&sv=2021-08-06&sr=b&rscd=inline&rsct=image/png&skoid=6aaadede-4fb3-4698-a8f6-684d7786b067&sktid=a48cca56-e6da-484e-a814-9c849652bcb3&skt=2023-08-24T21%3A29%3A39Z&ske=2023-08-25T21%3A29%3A39Z&sks=b&skv=2021-08-06&sig=QJjAxMfRqgqJ/UMGTN8cK8n4DqgwIYzfXEOwKo0p8VQ%3D\"\n",
       "    }\n",
       "  ]\n",
       "}"
      ]
     },
     "execution_count": 9,
     "metadata": {},
     "output_type": "execute_result"
    }
   ],
   "source": [
    "# Display the response from the edit request\n",
    "response"
   ]
  }
 ],
 "metadata": {
  "kernelspec": {
   "display_name": "dalle",
   "language": "python",
   "name": "python3"
  },
  "language_info": {
   "codemirror_mode": {
    "name": "ipython",
    "version": 3
   },
   "file_extension": ".py",
   "mimetype": "text/x-python",
   "name": "python",
   "nbconvert_exporter": "python",
   "pygments_lexer": "ipython3",
   "version": "3.11.4"
  },
  "orig_nbformat": 4
 },
 "nbformat": 4,
 "nbformat_minor": 2
}
